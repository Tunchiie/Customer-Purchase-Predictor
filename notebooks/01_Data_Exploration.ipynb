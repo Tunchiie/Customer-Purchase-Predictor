{
 "cells": [
  {
   "cell_type": "markdown",
   "id": "5f417732",
   "metadata": {
    "vscode": {
     "languageId": "plaintext"
    }
   },
   "source": [
    "## Customer Purchase Predictor"
   ]
  },
  {
   "cell_type": "code",
   "execution_count": 1,
   "id": "b4485c8a",
   "metadata": {},
   "outputs": [],
   "source": [
    "import polars as pl\n",
    "import pandas as pd\n",
    "import matplotlib.pyplot as plt\n",
    "import seaborn as sns\n",
    "%matplotlib inline"
   ]
  },
  {
   "cell_type": "code",
   "execution_count": 2,
   "id": "951633c6",
   "metadata": {},
   "outputs": [],
   "source": [
    "plt.style.use(\"fivethirtyeight\")"
   ]
  },
  {
   "cell_type": "code",
   "execution_count": 3,
   "id": "69603e34",
   "metadata": {},
   "outputs": [],
   "source": [
    "cols = [\"event_time\", \"product_id\", \"category_code\", \"price\", \"user_id\", \"event_type\"]\n",
    "dtypes = {\"product_id\":\"int64\", \"category_code\":\"category\", \"event_type\":\"category\", \"user_id\":\"Int64\", \"price\":\"float64\"}"
   ]
  },
  {
   "cell_type": "code",
   "execution_count": 4,
   "id": "3113768e",
   "metadata": {},
   "outputs": [],
   "source": [
    "#customer_nov_data =  pl.read_csv(\"../data/raw/2019-Nov.csv\", columns=cols)"
   ]
  },
  {
   "cell_type": "code",
   "execution_count": 5,
   "id": "94fdc684",
   "metadata": {},
   "outputs": [],
   "source": [
    "#activity_data = customer_nov_data.filter(pl.col('event_type').is_in([\"cart\", \"purchase\"]))\n",
    "#activity_data.write_parquet(\"../data/raw/2019_Nov.parquet\")\n"
   ]
  },
  {
   "cell_type": "code",
   "execution_count": 6,
   "id": "4b3b2373",
   "metadata": {},
   "outputs": [],
   "source": [
    "#customer_oct_data =  pl.read_csv(\"../data/raw/2019-Oct.csv\", columns=cols)"
   ]
  },
  {
   "cell_type": "code",
   "execution_count": 7,
   "id": "cb2e87f1",
   "metadata": {},
   "outputs": [],
   "source": [
    "#activity_data = customer_nov_data.filter(pl.col('event_type').is_in([\"cart\", \"purchase\"]))\n",
    "#activity_data.write_parquet(\"../data/raw/2019_Oct.parquet\")"
   ]
  },
  {
   "cell_type": "code",
   "execution_count": null,
   "id": "31bcd609",
   "metadata": {},
   "outputs": [],
   "source": [
    "customer_oct_data = pd.read_parquet(\"../data/raw/2019_ Oct.parquet\")"
   ]
  },
  {
   "cell_type": "code",
   "execution_count": 9,
   "id": "eda478fa",
   "metadata": {},
   "outputs": [
    {
     "name": "stdout",
     "output_type": "stream",
     "text": [
      "<class 'pandas.core.frame.DataFrame'>\n",
      "RangeIndex: 3945869 entries, 0 to 3945868\n",
      "Data columns (total 6 columns):\n",
      " #   Column         Dtype  \n",
      "---  ------         -----  \n",
      " 0   event_time     object \n",
      " 1   event_type     object \n",
      " 2   product_id     int64  \n",
      " 3   category_code  object \n",
      " 4   price          float64\n",
      " 5   user_id        int64  \n",
      "dtypes: float64(1), int64(2), object(3)\n",
      "memory usage: 180.6+ MB\n"
     ]
    }
   ],
   "source": [
    "customer_oct_data.info()"
   ]
  },
  {
   "cell_type": "code",
   "execution_count": 10,
   "id": "a81019e8",
   "metadata": {},
   "outputs": [
    {
     "data": {
      "text/html": [
       "<div>\n",
       "<style scoped>\n",
       "    .dataframe tbody tr th:only-of-type {\n",
       "        vertical-align: middle;\n",
       "    }\n",
       "\n",
       "    .dataframe tbody tr th {\n",
       "        vertical-align: top;\n",
       "    }\n",
       "\n",
       "    .dataframe thead th {\n",
       "        text-align: right;\n",
       "    }\n",
       "</style>\n",
       "<table border=\"1\" class=\"dataframe\">\n",
       "  <thead>\n",
       "    <tr style=\"text-align: right;\">\n",
       "      <th></th>\n",
       "      <th>event_time</th>\n",
       "      <th>event_type</th>\n",
       "      <th>product_id</th>\n",
       "      <th>category_code</th>\n",
       "      <th>price</th>\n",
       "      <th>user_id</th>\n",
       "    </tr>\n",
       "  </thead>\n",
       "  <tbody>\n",
       "    <tr>\n",
       "      <th>0</th>\n",
       "      <td>2019-11-01 00:00:14 UTC</td>\n",
       "      <td>cart</td>\n",
       "      <td>1005014</td>\n",
       "      <td>electronics.smartphone</td>\n",
       "      <td>503.09</td>\n",
       "      <td>533326659</td>\n",
       "    </tr>\n",
       "    <tr>\n",
       "      <th>1</th>\n",
       "      <td>2019-11-01 00:00:41 UTC</td>\n",
       "      <td>purchase</td>\n",
       "      <td>13200605</td>\n",
       "      <td>furniture.bedroom.bed</td>\n",
       "      <td>566.30</td>\n",
       "      <td>559368633</td>\n",
       "    </tr>\n",
       "    <tr>\n",
       "      <th>2</th>\n",
       "      <td>2019-11-01 00:01:04 UTC</td>\n",
       "      <td>purchase</td>\n",
       "      <td>1005161</td>\n",
       "      <td>electronics.smartphone</td>\n",
       "      <td>211.92</td>\n",
       "      <td>513351129</td>\n",
       "    </tr>\n",
       "    <tr>\n",
       "      <th>3</th>\n",
       "      <td>2019-11-01 00:03:24 UTC</td>\n",
       "      <td>cart</td>\n",
       "      <td>1801881</td>\n",
       "      <td>electronics.video.tv</td>\n",
       "      <td>488.80</td>\n",
       "      <td>557746614</td>\n",
       "    </tr>\n",
       "    <tr>\n",
       "      <th>4</th>\n",
       "      <td>2019-11-01 00:03:39 UTC</td>\n",
       "      <td>cart</td>\n",
       "      <td>1005115</td>\n",
       "      <td>electronics.smartphone</td>\n",
       "      <td>949.47</td>\n",
       "      <td>565865924</td>\n",
       "    </tr>\n",
       "  </tbody>\n",
       "</table>\n",
       "</div>"
      ],
      "text/plain": [
       "                event_time event_type  product_id           category_code  \\\n",
       "0  2019-11-01 00:00:14 UTC       cart     1005014  electronics.smartphone   \n",
       "1  2019-11-01 00:00:41 UTC   purchase    13200605   furniture.bedroom.bed   \n",
       "2  2019-11-01 00:01:04 UTC   purchase     1005161  electronics.smartphone   \n",
       "3  2019-11-01 00:03:24 UTC       cart     1801881    electronics.video.tv   \n",
       "4  2019-11-01 00:03:39 UTC       cart     1005115  electronics.smartphone   \n",
       "\n",
       "    price    user_id  \n",
       "0  503.09  533326659  \n",
       "1  566.30  559368633  \n",
       "2  211.92  513351129  \n",
       "3  488.80  557746614  \n",
       "4  949.47  565865924  "
      ]
     },
     "execution_count": 10,
     "metadata": {},
     "output_type": "execute_result"
    }
   ],
   "source": [
    "customer_oct_data.head(5)"
   ]
  },
  {
   "cell_type": "code",
   "execution_count": 11,
   "id": "a214d271",
   "metadata": {},
   "outputs": [
    {
     "data": {
      "image/png": "[encoded data removed]",
      "text/plain": [
       "<Figure size 640x480 with 1 Axes>"
      ]
     },
     "metadata": {},
     "output_type": "display_data"
    }
   ],
   "source": [
    "plt.boxplot(customer_oct_data[\"price\"] )\n",
    "plt.show()"
   ]
  },
  {
   "cell_type": "code",
   "execution_count": 12,
   "id": "c205b28b",
   "metadata": {},
   "outputs": [
    {
     "name": "stdout",
     "output_type": "stream",
     "text": [
      "(347185, 6)\n"
     ]
    }
   ],
   "source": [
    "outliers = customer_oct_data[customer_oct_data[\"price\"] > 900]\n",
    "print(outliers.shape)"
   ]
  },
  {
   "cell_type": "code",
   "execution_count": 13,
   "id": "2d186fab",
   "metadata": {},
   "outputs": [
    {
     "data": {
      "text/plain": [
       "category_code\n",
       "country_yard.cultivator          180\n",
       "apparel.belt                     171\n",
       "apparel.shoes.moccasins          141\n",
       "apparel.sock                     120\n",
       "auto.accessories.anti_freeze     114\n",
       "appliances.environment.fan       113\n",
       "accessories.umbrella              99\n",
       "apparel.glove                     87\n",
       "apparel.shoes.ballet_shoes        80\n",
       "auto.accessories.winch            76\n",
       "apparel.skirt                     71\n",
       "apparel.shoes.slipons             61\n",
       "apparel.scarf                     51\n",
       "construction.tools.soldering      45\n",
       "apparel.shoes.step_ins            26\n",
       "country_yard.furniture.hammok     22\n",
       "apparel.shorts                    13\n",
       "appliances.kitchen.fryer           9\n",
       "apparel.shoes.espadrilles          8\n",
       "construction.tools.screw           2\n",
       "Name: count, dtype: int64"
      ]
     },
     "execution_count": 13,
     "metadata": {},
     "output_type": "execute_result"
    }
   ],
   "source": [
    "customer_oct_data[\"category_code\"].value_counts()[-20:]"
   ]
  },
  {
   "cell_type": "code",
   "execution_count": 14,
   "id": "bb14f92e",
   "metadata": {},
   "outputs": [],
   "source": [
    "customer_oct_data[\"category\"] = customer_oct_data[\"category_code\"].str.split(\".\").str[0]"
   ]
  },
  {
   "cell_type": "code",
   "execution_count": 15,
   "id": "5cc50199",
   "metadata": {},
   "outputs": [
    {
     "data": {
      "text/plain": [
       "event_type\n",
       "cart        3028930\n",
       "purchase     916939\n",
       "Name: count, dtype: int64"
      ]
     },
     "execution_count": 15,
     "metadata": {},
     "output_type": "execute_result"
    }
   ],
   "source": [
    "customer_oct_data[\"event_type\"].value_counts()"
   ]
  },
  {
   "cell_type": "code",
   "execution_count": 16,
   "id": "cf42fe75",
   "metadata": {},
   "outputs": [],
   "source": [
    "customer_oct_data[\"event_time\"] = pd.to_datetime(customer_oct_data[\"event_time\"])"
   ]
  },
  {
   "cell_type": "code",
   "execution_count": 17,
   "id": "e8946984",
   "metadata": {},
   "outputs": [
    {
     "name": "stdout",
     "output_type": "stream",
     "text": [
      "min_date: 2019-11-01 00:00:14+00:00 \n",
      "max_date: 2019-11-30 23:59:52+00:00\n"
     ]
    }
   ],
   "source": [
    "print(f\"min_date: {customer_oct_data['event_time'].min()} \\nmax_date: {customer_oct_data['event_time'].max()}\")"
   ]
  },
  {
   "cell_type": "code",
   "execution_count": 18,
   "id": "0163f864",
   "metadata": {},
   "outputs": [],
   "source": [
    "customer_oct_data[\"month\"] = customer_oct_data[\"event_time\"].dt.month\n",
    "customer_oct_data[\"weekday\"] = customer_oct_data[\"event_time\"].dt.day_name()\n",
    "customer_oct_data[\"hour_24\"] = customer_oct_data[\"event_time\"].dt.hour\n",
    "customer_oct_data[\"hour_12\"] = customer_oct_data[\"event_time\"].dt.strftime(\"%I %p\")"
   ]
  },
  {
   "cell_type": "code",
   "execution_count": 19,
   "id": "15c5e0fa",
   "metadata": {},
   "outputs": [
    {
     "data": {
      "text/html": [
       "<div>\n",
       "<style scoped>\n",
       "    .dataframe tbody tr th:only-of-type {\n",
       "        vertical-align: middle;\n",
       "    }\n",
       "\n",
       "    .dataframe tbody tr th {\n",
       "        vertical-align: top;\n",
       "    }\n",
       "\n",
       "    .dataframe thead th {\n",
       "        text-align: right;\n",
       "    }\n",
       "</style>\n",
       "<table border=\"1\" class=\"dataframe\">\n",
       "  <thead>\n",
       "    <tr style=\"text-align: right;\">\n",
       "      <th></th>\n",
       "      <th>event_time</th>\n",
       "      <th>event_type</th>\n",
       "      <th>product_id</th>\n",
       "      <th>category_code</th>\n",
       "      <th>price</th>\n",
       "      <th>user_id</th>\n",
       "      <th>category</th>\n",
       "      <th>month</th>\n",
       "      <th>weekday</th>\n",
       "      <th>hour_24</th>\n",
       "      <th>hour_12</th>\n",
       "    </tr>\n",
       "  </thead>\n",
       "  <tbody>\n",
       "    <tr>\n",
       "      <th>0</th>\n",
       "      <td>2019-11-01 00:00:14+00:00</td>\n",
       "      <td>cart</td>\n",
       "      <td>1005014</td>\n",
       "      <td>electronics.smartphone</td>\n",
       "      <td>503.09</td>\n",
       "      <td>533326659</td>\n",
       "      <td>electronics</td>\n",
       "      <td>11</td>\n",
       "      <td>Friday</td>\n",
       "      <td>0</td>\n",
       "      <td>12 AM</td>\n",
       "    </tr>\n",
       "    <tr>\n",
       "      <th>1</th>\n",
       "      <td>2019-11-01 00:00:41+00:00</td>\n",
       "      <td>purchase</td>\n",
       "      <td>13200605</td>\n",
       "      <td>furniture.bedroom.bed</td>\n",
       "      <td>566.30</td>\n",
       "      <td>559368633</td>\n",
       "      <td>furniture</td>\n",
       "      <td>11</td>\n",
       "      <td>Friday</td>\n",
       "      <td>0</td>\n",
       "      <td>12 AM</td>\n",
       "    </tr>\n",
       "    <tr>\n",
       "      <th>2</th>\n",
       "      <td>2019-11-01 00:01:04+00:00</td>\n",
       "      <td>purchase</td>\n",
       "      <td>1005161</td>\n",
       "      <td>electronics.smartphone</td>\n",
       "      <td>211.92</td>\n",
       "      <td>513351129</td>\n",
       "      <td>electronics</td>\n",
       "      <td>11</td>\n",
       "      <td>Friday</td>\n",
       "      <td>0</td>\n",
       "      <td>12 AM</td>\n",
       "    </tr>\n",
       "    <tr>\n",
       "      <th>3</th>\n",
       "      <td>2019-11-01 00:03:24+00:00</td>\n",
       "      <td>cart</td>\n",
       "      <td>1801881</td>\n",
       "      <td>electronics.video.tv</td>\n",
       "      <td>488.80</td>\n",
       "      <td>557746614</td>\n",
       "      <td>electronics</td>\n",
       "      <td>11</td>\n",
       "      <td>Friday</td>\n",
       "      <td>0</td>\n",
       "      <td>12 AM</td>\n",
       "    </tr>\n",
       "    <tr>\n",
       "      <th>4</th>\n",
       "      <td>2019-11-01 00:03:39+00:00</td>\n",
       "      <td>cart</td>\n",
       "      <td>1005115</td>\n",
       "      <td>electronics.smartphone</td>\n",
       "      <td>949.47</td>\n",
       "      <td>565865924</td>\n",
       "      <td>electronics</td>\n",
       "      <td>11</td>\n",
       "      <td>Friday</td>\n",
       "      <td>0</td>\n",
       "      <td>12 AM</td>\n",
       "    </tr>\n",
       "  </tbody>\n",
       "</table>\n",
       "</div>"
      ],
      "text/plain": [
       "                 event_time event_type  product_id           category_code  \\\n",
       "0 2019-11-01 00:00:14+00:00       cart     1005014  electronics.smartphone   \n",
       "1 2019-11-01 00:00:41+00:00   purchase    13200605   furniture.bedroom.bed   \n",
       "2 2019-11-01 00:01:04+00:00   purchase     1005161  electronics.smartphone   \n",
       "3 2019-11-01 00:03:24+00:00       cart     1801881    electronics.video.tv   \n",
       "4 2019-11-01 00:03:39+00:00       cart     1005115  electronics.smartphone   \n",
       "\n",
       "    price    user_id     category  month weekday  hour_24 hour_12  \n",
       "0  503.09  533326659  electronics     11  Friday        0   12 AM  \n",
       "1  566.30  559368633    furniture     11  Friday        0   12 AM  \n",
       "2  211.92  513351129  electronics     11  Friday        0   12 AM  \n",
       "3  488.80  557746614  electronics     11  Friday        0   12 AM  \n",
       "4  949.47  565865924  electronics     11  Friday        0   12 AM  "
      ]
     },
     "execution_count": 19,
     "metadata": {},
     "output_type": "execute_result"
    }
   ],
   "source": [
    "customer_oct_data.head(5)"
   ]
  },
  {
   "cell_type": "code",
   "execution_count": 20,
   "id": "d6b382ce",
   "metadata": {},
   "outputs": [],
   "source": [
    "customer_oct_data = customer_oct_data.sort_values(by=[\"event_time\"])"
   ]
  },
  {
   "cell_type": "code",
   "execution_count": 21,
   "id": "c22f1369",
   "metadata": {},
   "outputs": [],
   "source": [
    "customer_oct_data[\"prev_event_time\"] = customer_oct_data[\"event_time\"].shift(1)"
   ]
  },
  {
   "cell_type": "code",
   "execution_count": 22,
   "id": "ee2c223b",
   "metadata": {},
   "outputs": [
    {
     "data": {
      "text/html": [
       "<div>\n",
       "<style scoped>\n",
       "    .dataframe tbody tr th:only-of-type {\n",
       "        vertical-align: middle;\n",
       "    }\n",
       "\n",
       "    .dataframe tbody tr th {\n",
       "        vertical-align: top;\n",
       "    }\n",
       "\n",
       "    .dataframe thead th {\n",
       "        text-align: right;\n",
       "    }\n",
       "</style>\n",
       "<table border=\"1\" class=\"dataframe\">\n",
       "  <thead>\n",
       "    <tr style=\"text-align: right;\">\n",
       "      <th></th>\n",
       "      <th>event_time</th>\n",
       "      <th>event_type</th>\n",
       "      <th>product_id</th>\n",
       "      <th>category_code</th>\n",
       "      <th>price</th>\n",
       "      <th>user_id</th>\n",
       "      <th>category</th>\n",
       "      <th>month</th>\n",
       "      <th>weekday</th>\n",
       "      <th>hour_24</th>\n",
       "      <th>hour_12</th>\n",
       "      <th>prev_event_time</th>\n",
       "    </tr>\n",
       "  </thead>\n",
       "  <tbody>\n",
       "    <tr>\n",
       "      <th>0</th>\n",
       "      <td>2019-11-01 00:00:14+00:00</td>\n",
       "      <td>cart</td>\n",
       "      <td>1005014</td>\n",
       "      <td>electronics.smartphone</td>\n",
       "      <td>503.09</td>\n",
       "      <td>533326659</td>\n",
       "      <td>electronics</td>\n",
       "      <td>11</td>\n",
       "      <td>Friday</td>\n",
       "      <td>0</td>\n",
       "      <td>12 AM</td>\n",
       "      <td>NaT</td>\n",
       "    </tr>\n",
       "    <tr>\n",
       "      <th>1</th>\n",
       "      <td>2019-11-01 00:00:41+00:00</td>\n",
       "      <td>purchase</td>\n",
       "      <td>13200605</td>\n",
       "      <td>furniture.bedroom.bed</td>\n",
       "      <td>566.30</td>\n",
       "      <td>559368633</td>\n",
       "      <td>furniture</td>\n",
       "      <td>11</td>\n",
       "      <td>Friday</td>\n",
       "      <td>0</td>\n",
       "      <td>12 AM</td>\n",
       "      <td>2019-11-01 00:00:14+00:00</td>\n",
       "    </tr>\n",
       "    <tr>\n",
       "      <th>2</th>\n",
       "      <td>2019-11-01 00:01:04+00:00</td>\n",
       "      <td>purchase</td>\n",
       "      <td>1005161</td>\n",
       "      <td>electronics.smartphone</td>\n",
       "      <td>211.92</td>\n",
       "      <td>513351129</td>\n",
       "      <td>electronics</td>\n",
       "      <td>11</td>\n",
       "      <td>Friday</td>\n",
       "      <td>0</td>\n",
       "      <td>12 AM</td>\n",
       "      <td>2019-11-01 00:00:41+00:00</td>\n",
       "    </tr>\n",
       "    <tr>\n",
       "      <th>3</th>\n",
       "      <td>2019-11-01 00:03:24+00:00</td>\n",
       "      <td>cart</td>\n",
       "      <td>1801881</td>\n",
       "      <td>electronics.video.tv</td>\n",
       "      <td>488.80</td>\n",
       "      <td>557746614</td>\n",
       "      <td>electronics</td>\n",
       "      <td>11</td>\n",
       "      <td>Friday</td>\n",
       "      <td>0</td>\n",
       "      <td>12 AM</td>\n",
       "      <td>2019-11-01 00:01:04+00:00</td>\n",
       "    </tr>\n",
       "    <tr>\n",
       "      <th>4</th>\n",
       "      <td>2019-11-01 00:03:39+00:00</td>\n",
       "      <td>cart</td>\n",
       "      <td>1005115</td>\n",
       "      <td>electronics.smartphone</td>\n",
       "      <td>949.47</td>\n",
       "      <td>565865924</td>\n",
       "      <td>electronics</td>\n",
       "      <td>11</td>\n",
       "      <td>Friday</td>\n",
       "      <td>0</td>\n",
       "      <td>12 AM</td>\n",
       "      <td>2019-11-01 00:03:24+00:00</td>\n",
       "    </tr>\n",
       "  </tbody>\n",
       "</table>\n",
       "</div>"
      ],
      "text/plain": [
       "                 event_time event_type  product_id           category_code  \\\n",
       "0 2019-11-01 00:00:14+00:00       cart     1005014  electronics.smartphone   \n",
       "1 2019-11-01 00:00:41+00:00   purchase    13200605   furniture.bedroom.bed   \n",
       "2 2019-11-01 00:01:04+00:00   purchase     1005161  electronics.smartphone   \n",
       "3 2019-11-01 00:03:24+00:00       cart     1801881    electronics.video.tv   \n",
       "4 2019-11-01 00:03:39+00:00       cart     1005115  electronics.smartphone   \n",
       "\n",
       "    price    user_id     category  month weekday  hour_24 hour_12  \\\n",
       "0  503.09  533326659  electronics     11  Friday        0   12 AM   \n",
       "1  566.30  559368633    furniture     11  Friday        0   12 AM   \n",
       "2  211.92  513351129  electronics     11  Friday        0   12 AM   \n",
       "3  488.80  557746614  electronics     11  Friday        0   12 AM   \n",
       "4  949.47  565865924  electronics     11  Friday        0   12 AM   \n",
       "\n",
       "            prev_event_time  \n",
       "0                       NaT  \n",
       "1 2019-11-01 00:00:14+00:00  \n",
       "2 2019-11-01 00:00:41+00:00  \n",
       "3 2019-11-01 00:01:04+00:00  \n",
       "4 2019-11-01 00:03:24+00:00  "
      ]
     },
     "execution_count": 22,
     "metadata": {},
     "output_type": "execute_result"
    }
   ],
   "source": [
    "customer_oct_data.head(5)"
   ]
  },
  {
   "cell_type": "code",
   "execution_count": 23,
   "id": "679d9260",
   "metadata": {},
   "outputs": [],
   "source": [
    "customer_oct_data[\"hours_since_last_event\"] = (customer_oct_data[\"event_time\"] - customer_oct_data[\"prev_event_time\"]).dt.total_seconds() / 3600"
   ]
  },
  {
   "cell_type": "code",
   "execution_count": 24,
   "id": "2458b229",
   "metadata": {},
   "outputs": [
    {
     "data": {
      "text/html": [
       "<div>\n",
       "<style scoped>\n",
       "    .dataframe tbody tr th:only-of-type {\n",
       "        vertical-align: middle;\n",
       "    }\n",
       "\n",
       "    .dataframe tbody tr th {\n",
       "        vertical-align: top;\n",
       "    }\n",
       "\n",
       "    .dataframe thead th {\n",
       "        text-align: right;\n",
       "    }\n",
       "</style>\n",
       "<table border=\"1\" class=\"dataframe\">\n",
       "  <thead>\n",
       "    <tr style=\"text-align: right;\">\n",
       "      <th></th>\n",
       "      <th>event_time</th>\n",
       "      <th>event_type</th>\n",
       "      <th>product_id</th>\n",
       "      <th>category_code</th>\n",
       "      <th>price</th>\n",
       "      <th>user_id</th>\n",
       "      <th>category</th>\n",
       "      <th>month</th>\n",
       "      <th>weekday</th>\n",
       "      <th>hour_24</th>\n",
       "      <th>hour_12</th>\n",
       "      <th>prev_event_time</th>\n",
       "      <th>hours_since_last_event</th>\n",
       "    </tr>\n",
       "  </thead>\n",
       "  <tbody>\n",
       "    <tr>\n",
       "      <th>0</th>\n",
       "      <td>2019-11-01 00:00:14+00:00</td>\n",
       "      <td>cart</td>\n",
       "      <td>1005014</td>\n",
       "      <td>electronics.smartphone</td>\n",
       "      <td>503.09</td>\n",
       "      <td>533326659</td>\n",
       "      <td>electronics</td>\n",
       "      <td>11</td>\n",
       "      <td>Friday</td>\n",
       "      <td>0</td>\n",
       "      <td>12 AM</td>\n",
       "      <td>NaT</td>\n",
       "      <td>NaN</td>\n",
       "    </tr>\n",
       "    <tr>\n",
       "      <th>1</th>\n",
       "      <td>2019-11-01 00:00:41+00:00</td>\n",
       "      <td>purchase</td>\n",
       "      <td>13200605</td>\n",
       "      <td>furniture.bedroom.bed</td>\n",
       "      <td>566.30</td>\n",
       "      <td>559368633</td>\n",
       "      <td>furniture</td>\n",
       "      <td>11</td>\n",
       "      <td>Friday</td>\n",
       "      <td>0</td>\n",
       "      <td>12 AM</td>\n",
       "      <td>2019-11-01 00:00:14+00:00</td>\n",
       "      <td>0.007500</td>\n",
       "    </tr>\n",
       "    <tr>\n",
       "      <th>2</th>\n",
       "      <td>2019-11-01 00:01:04+00:00</td>\n",
       "      <td>purchase</td>\n",
       "      <td>1005161</td>\n",
       "      <td>electronics.smartphone</td>\n",
       "      <td>211.92</td>\n",
       "      <td>513351129</td>\n",
       "      <td>electronics</td>\n",
       "      <td>11</td>\n",
       "      <td>Friday</td>\n",
       "      <td>0</td>\n",
       "      <td>12 AM</td>\n",
       "      <td>2019-11-01 00:00:41+00:00</td>\n",
       "      <td>0.006389</td>\n",
       "    </tr>\n",
       "    <tr>\n",
       "      <th>3</th>\n",
       "      <td>2019-11-01 00:03:24+00:00</td>\n",
       "      <td>cart</td>\n",
       "      <td>1801881</td>\n",
       "      <td>electronics.video.tv</td>\n",
       "      <td>488.80</td>\n",
       "      <td>557746614</td>\n",
       "      <td>electronics</td>\n",
       "      <td>11</td>\n",
       "      <td>Friday</td>\n",
       "      <td>0</td>\n",
       "      <td>12 AM</td>\n",
       "      <td>2019-11-01 00:01:04+00:00</td>\n",
       "      <td>0.038889</td>\n",
       "    </tr>\n",
       "    <tr>\n",
       "      <th>4</th>\n",
       "      <td>2019-11-01 00:03:39+00:00</td>\n",
       "      <td>cart</td>\n",
       "      <td>1005115</td>\n",
       "      <td>electronics.smartphone</td>\n",
       "      <td>949.47</td>\n",
       "      <td>565865924</td>\n",
       "      <td>electronics</td>\n",
       "      <td>11</td>\n",
       "      <td>Friday</td>\n",
       "      <td>0</td>\n",
       "      <td>12 AM</td>\n",
       "      <td>2019-11-01 00:03:24+00:00</td>\n",
       "      <td>0.004167</td>\n",
       "    </tr>\n",
       "  </tbody>\n",
       "</table>\n",
       "</div>"
      ],
      "text/plain": [
       "                 event_time event_type  product_id           category_code  \\\n",
       "0 2019-11-01 00:00:14+00:00       cart     1005014  electronics.smartphone   \n",
       "1 2019-11-01 00:00:41+00:00   purchase    13200605   furniture.bedroom.bed   \n",
       "2 2019-11-01 00:01:04+00:00   purchase     1005161  electronics.smartphone   \n",
       "3 2019-11-01 00:03:24+00:00       cart     1801881    electronics.video.tv   \n",
       "4 2019-11-01 00:03:39+00:00       cart     1005115  electronics.smartphone   \n",
       "\n",
       "    price    user_id     category  month weekday  hour_24 hour_12  \\\n",
       "0  503.09  533326659  electronics     11  Friday        0   12 AM   \n",
       "1  566.30  559368633    furniture     11  Friday        0   12 AM   \n",
       "2  211.92  513351129  electronics     11  Friday        0   12 AM   \n",
       "3  488.80  557746614  electronics     11  Friday        0   12 AM   \n",
       "4  949.47  565865924  electronics     11  Friday        0   12 AM   \n",
       "\n",
       "            prev_event_time  hours_since_last_event  \n",
       "0                       NaT                     NaN  \n",
       "1 2019-11-01 00:00:14+00:00                0.007500  \n",
       "2 2019-11-01 00:00:41+00:00                0.006389  \n",
       "3 2019-11-01 00:01:04+00:00                0.038889  \n",
       "4 2019-11-01 00:03:24+00:00                0.004167  "
      ]
     },
     "execution_count": 24,
     "metadata": {},
     "output_type": "execute_result"
    }
   ],
   "source": [
    "customer_oct_data.head(5)"
   ]
  },
  {
   "cell_type": "code",
   "execution_count": 25,
   "id": "9f1a29c6",
   "metadata": {},
   "outputs": [
    {
     "data": {
      "text/plain": [
       "hour_12\n",
       "09 AM    258732\n",
       "10 AM    257118\n",
       "08 AM    255255\n",
       "11 AM    247929\n",
       "07 AM    246716\n",
       "06 AM    241287\n",
       "02 PM    231528\n",
       "12 PM    230731\n",
       "05 AM    230075\n",
       "01 PM    227366\n",
       "03 PM    225737\n",
       "04 PM    212200\n",
       "04 AM    200573\n",
       "05 PM    196974\n",
       "06 PM    155874\n",
       "03 AM    144841\n",
       "07 PM    103950\n",
       "02 AM     81321\n",
       "08 PM     64575\n",
       "01 AM     38698\n",
       "09 PM     37724\n",
       "10 PM     22416\n",
       "12 AM     19300\n",
       "11 PM     14949\n",
       "Name: count, dtype: int64"
      ]
     },
     "execution_count": 25,
     "metadata": {},
     "output_type": "execute_result"
    }
   ],
   "source": [
    "customer_oct_data[\"hour_12\"].value_counts()"
   ]
  },
  {
   "cell_type": "code",
   "execution_count": 26,
   "id": "34f21442",
   "metadata": {},
   "outputs": [
    {
     "data": {
      "text/plain": [
       "event_type\n",
       "cart        3028930\n",
       "purchase     916939\n",
       "Name: count, dtype: int64"
      ]
     },
     "execution_count": 26,
     "metadata": {},
     "output_type": "execute_result"
    }
   ],
   "source": [
    "customer_oct_data[\"event_type\"].value_counts()"
   ]
  },
  {
   "cell_type": "code",
   "execution_count": 27,
   "id": "e6b67399",
   "metadata": {},
   "outputs": [],
   "source": [
    "purchase_data = customer_oct_data[customer_oct_data[\"event_type\"] == \"purchase\"]\n",
    "cart_data = customer_oct_data[customer_oct_data[\"event_type\"] == \"cart\"]"
   ]
  },
  {
   "cell_type": "code",
   "execution_count": 28,
   "id": "59ffc4bf",
   "metadata": {},
   "outputs": [
    {
     "data": {
      "text/plain": [
       "hour_12\n",
       "09 AM    71434\n",
       "10 AM    69042\n",
       "08 AM    65261\n",
       "11 AM    64271\n",
       "12 PM    61257\n",
       "01 PM    59671\n",
       "02 PM    59474\n",
       "07 AM    58705\n",
       "06 AM    57427\n",
       "05 AM    53361\n",
       "03 PM    52599\n",
       "04 PM    46220\n",
       "05 PM    45342\n",
       "04 AM    44089\n",
       "03 AM    26336\n",
       "06 PM    23642\n",
       "07 PM    17063\n",
       "02 AM    11156\n",
       "08 PM    10153\n",
       "09 PM     6319\n",
       "10 PM     4289\n",
       "01 AM     4215\n",
       "12 AM     2822\n",
       "11 PM     2791\n",
       "Name: count, dtype: int64"
      ]
     },
     "execution_count": 28,
     "metadata": {},
     "output_type": "execute_result"
    }
   ],
   "source": [
    "purchase_data[\"hour_12\"].value_counts()"
   ]
  },
  {
   "cell_type": "code",
   "execution_count": 29,
   "id": "4cc638a5",
   "metadata": {},
   "outputs": [
    {
     "data": {
      "text/plain": [
       "hour_12\n",
       "08 AM    189994\n",
       "10 AM    188076\n",
       "07 AM    188011\n",
       "09 AM    187298\n",
       "06 AM    183860\n",
       "11 AM    183658\n",
       "05 AM    176714\n",
       "03 PM    173138\n",
       "02 PM    172054\n",
       "12 PM    169474\n",
       "01 PM    167695\n",
       "04 PM    165980\n",
       "04 AM    156484\n",
       "05 PM    151632\n",
       "06 PM    132232\n",
       "03 AM    118505\n",
       "07 PM     86887\n",
       "02 AM     70165\n",
       "08 PM     54422\n",
       "01 AM     34483\n",
       "09 PM     31405\n",
       "10 PM     18127\n",
       "12 AM     16478\n",
       "11 PM     12158\n",
       "Name: count, dtype: int64"
      ]
     },
     "execution_count": 29,
     "metadata": {},
     "output_type": "execute_result"
    }
   ],
   "source": [
    "cart_data[\"hour_12\"].value_counts()"
   ]
  },
  {
   "cell_type": "code",
   "execution_count": 30,
   "id": "bb5c7f64",
   "metadata": {},
   "outputs": [],
   "source": [
    "customer_oct_data[\"is_peak_hours\"] = customer_oct_data[\"hour_24\"].between(6, 11).astype(int)\n",
    "customer_oct_data[\"is_purchase\"] = (customer_oct_data[\"event_type\"] == \"purchase\").astype(int)"
   ]
  },
  {
   "cell_type": "code",
   "execution_count": 31,
   "id": "2d0e3b08",
   "metadata": {},
   "outputs": [],
   "source": [
    "peak_hours = customer_oct_data[customer_oct_data[\"is_peak_hours\"] == 1]\n",
    "off_peak_hours = customer_oct_data[customer_oct_data[\"is_peak_hours\"] == 0]"
   ]
  },
  {
   "cell_type": "code",
   "execution_count": 32,
   "id": "fded5eab",
   "metadata": {},
   "outputs": [
    {
     "name": "stdout",
     "output_type": "stream",
     "text": [
      "peak rate: 25.62%       \n",
      "off_peak_rate: 21.76%\n"
     ]
    }
   ],
   "source": [
    "peak_rate = peak_hours[\"is_purchase\"].mean()\n",
    "off_peak_rate = off_peak_hours[\"is_purchase\"].mean()\n",
    "print(f\"peak rate: {peak_rate * 100:.2f}% \\\n",
    "      \\noff_peak_rate: {off_peak_rate * 100:.2f}%\")"
   ]
  },
  {
   "cell_type": "code",
   "execution_count": 33,
   "id": "e183d590",
   "metadata": {},
   "outputs": [
    {
     "name": "stdout",
     "output_type": "stream",
     "text": [
      "Percent difference : 17.73%\n"
     ]
    }
   ],
   "source": [
    "percent_diff = (peak_rate - off_peak_rate) / off_peak_rate\n",
    "print(f\"Percent difference : {percent_diff * 100:.2f}%\")"
   ]
  },
  {
   "cell_type": "code",
   "execution_count": 34,
   "id": "c26fcf32",
   "metadata": {},
   "outputs": [],
   "source": [
    "top_spenders = customer_oct_data[customer_oct_data[\"price\"] > 900]"
   ]
  },
  {
   "cell_type": "code",
   "execution_count": 35,
   "id": "659b85e3",
   "metadata": {},
   "outputs": [],
   "source": [
    "top_spenders = top_spenders[top_spenders[\"event_type\"] == \"purchase\"]"
   ]
  },
  {
   "cell_type": "code",
   "execution_count": 36,
   "id": "a80f8b7f",
   "metadata": {},
   "outputs": [
    {
     "data": {
      "text/plain": [
       "hour_12\n",
       "09 AM    6784\n",
       "10 AM    6693\n",
       "11 AM    6252\n",
       "08 AM    6063\n",
       "12 PM    5764\n",
       "01 PM    5419\n",
       "02 PM    5228\n",
       "07 AM    5087\n",
       "06 AM    4992\n",
       "05 AM    4655\n",
       "03 PM    4510\n",
       "05 PM    3938\n",
       "04 PM    3859\n",
       "04 AM    3674\n",
       "06 PM    2566\n",
       "03 AM    2108\n",
       "07 PM    1762\n",
       "08 PM    1239\n",
       "09 PM     864\n",
       "02 AM     842\n",
       "10 PM     593\n",
       "11 PM     378\n",
       "01 AM     364\n",
       "12 AM     310\n",
       "Name: count, dtype: int64"
      ]
     },
     "execution_count": 36,
     "metadata": {},
     "output_type": "execute_result"
    }
   ],
   "source": [
    "top_spenders[\"hour_12\"].value_counts()"
   ]
  },
  {
   "cell_type": "code",
   "execution_count": 37,
   "id": "a769126d",
   "metadata": {},
   "outputs": [],
   "source": [
    "def map_time_of_day(hour):\n",
    "    if 5 <= hour <= 11:\n",
    "        return \"morning\"\n",
    "    elif 12 <= hour <= 16:\n",
    "        return \"afternoon\"\n",
    "    elif 17 <= hour <= 20:\n",
    "        return \"evening\"\n",
    "    else:\n",
    "        return \"night\""
   ]
  },
  {
   "cell_type": "code",
   "execution_count": 38,
   "id": "5eeaae36",
   "metadata": {},
   "outputs": [],
   "source": [
    "customer_oct_data[\"time_of_day\"] = customer_oct_data[\"hour_24\"].apply(map_time_of_day)"
   ]
  },
  {
   "cell_type": "code",
   "execution_count": 39,
   "id": "556ccbea",
   "metadata": {},
   "outputs": [
    {
     "data": {
      "text/plain": [
       "time_of_day\n",
       "morning      1737112\n",
       "afternoon    1127562\n",
       "night         559822\n",
       "evening       521373\n",
       "Name: count, dtype: int64"
      ]
     },
     "execution_count": 39,
     "metadata": {},
     "output_type": "execute_result"
    }
   ],
   "source": [
    "customer_oct_data[\"time_of_day\"].value_counts()"
   ]
  },
  {
   "cell_type": "code",
   "execution_count": 40,
   "id": "55b8cb0b",
   "metadata": {},
   "outputs": [
    {
     "name": "stdout",
     "output_type": "stream",
     "text": [
      "time_of_day\n",
      "morning      0.253007\n",
      "afternoon    0.247633\n",
      "evening      0.184513\n",
      "night        0.182231\n",
      "Name: is_purchase, dtype: float64\n"
     ]
    }
   ],
   "source": [
    "peak_time_of_day = customer_oct_data.groupby(by=[\"time_of_day\"])[\"is_purchase\"].mean().sort_values(ascending=False)\n",
    "print(peak_time_of_day)"
   ]
  },
  {
   "cell_type": "code",
   "execution_count": 41,
   "id": "1afca1e8",
   "metadata": {},
   "outputs": [],
   "source": [
    "def segment_user(num_purchases):\n",
    "    if num_purchases == 0:\n",
    "        return \"window_shopper\"\n",
    "    elif num_purchases == 1:\n",
    "        return \"new_buyer\"\n",
    "    elif 2 <= num_purchases <= 5:\n",
    "        return \"repeat_buyer\"\n",
    "    else:\n",
    "        return \"loyal_buyer\""
   ]
  },
  {
   "cell_type": "code",
   "execution_count": 42,
   "id": "64545abc",
   "metadata": {},
   "outputs": [],
   "source": [
    "purchase_counts = customer_oct_data[customer_oct_data[\"is_purchase\"] == 1][\"user_id\"].value_counts()\n",
    "customer_oct_data[\"user_purchase_count\"] = customer_oct_data[\"user_id\"].map(purchase_counts).fillna(0)\n",
    "customer_oct_data[\"buyer_segment\"] = customer_oct_data[\"user_purchase_count\"].apply(segment_user)"
   ]
  },
  {
   "cell_type": "code",
   "execution_count": 43,
   "id": "cc3ab12b",
   "metadata": {},
   "outputs": [
    {
     "data": {
      "text/plain": [
       "buyer_segment\n",
       "repeat_buyer      1187578\n",
       "window_shopper    1085244\n",
       "new_buyer          995592\n",
       "loyal_buyer        677455\n",
       "Name: count, dtype: int64"
      ]
     },
     "execution_count": 43,
     "metadata": {},
     "output_type": "execute_result"
    }
   ],
   "source": [
    "customer_oct_data[\"buyer_segment\"].value_counts()"
   ]
  },
  {
   "cell_type": "code",
   "execution_count": 44,
   "id": "893dbab4",
   "metadata": {},
   "outputs": [
    {
     "name": "stdout",
     "output_type": "stream",
     "text": [
      "Index(['event_time', 'event_type', 'product_id', 'category_code', 'price',\n",
      "       'user_id', 'category', 'month', 'weekday', 'hour_24', 'hour_12',\n",
      "       'prev_event_time', 'hours_since_last_event', 'is_peak_hours',\n",
      "       'is_purchase', 'time_of_day', 'user_purchase_count', 'buyer_segment'],\n",
      "      dtype='object')\n"
     ]
    }
   ],
   "source": [
    "print(customer_oct_data.columns)"
   ]
  },
  {
   "cell_type": "code",
   "execution_count": 45,
   "id": "0be2bada",
   "metadata": {},
   "outputs": [],
   "source": [
    "customer_oct_data[\"time_between_events\"] = customer_oct_data.sort_values(by=[\"user_id\", \"event_time\"]).groupby(by=[\"user_id\"])[\"event_time\"].diff().dt.total_seconds()"
   ]
  },
  {
   "cell_type": "code",
   "execution_count": 46,
   "id": "e2036d5a",
   "metadata": {},
   "outputs": [],
   "source": [
    "clumpiness = (customer_oct_data.groupby(by=[\"user_id\"])[\"time_between_events\"].std().fillna(0).rename(\"clumpiness\"))"
   ]
  },
  {
   "cell_type": "code",
   "execution_count": 47,
   "id": "f38d15f5",
   "metadata": {},
   "outputs": [],
   "source": [
    "customer_oct_data = customer_oct_data.merge(clumpiness, on=[\"user_id\"], how=\"left\")"
   ]
  },
  {
   "cell_type": "code",
   "execution_count": 48,
   "id": "f0816161",
   "metadata": {},
   "outputs": [
    {
     "data": {
      "text/html": [
       "<div>\n",
       "<style scoped>\n",
       "    .dataframe tbody tr th:only-of-type {\n",
       "        vertical-align: middle;\n",
       "    }\n",
       "\n",
       "    .dataframe tbody tr th {\n",
       "        vertical-align: top;\n",
       "    }\n",
       "\n",
       "    .dataframe thead th {\n",
       "        text-align: right;\n",
       "    }\n",
       "</style>\n",
       "<table border=\"1\" class=\"dataframe\">\n",
       "  <thead>\n",
       "    <tr style=\"text-align: right;\">\n",
       "      <th></th>\n",
       "      <th>event_time</th>\n",
       "      <th>event_type</th>\n",
       "      <th>product_id</th>\n",
       "      <th>category_code</th>\n",
       "      <th>price</th>\n",
       "      <th>user_id</th>\n",
       "      <th>category</th>\n",
       "      <th>month</th>\n",
       "      <th>weekday</th>\n",
       "      <th>hour_24</th>\n",
       "      <th>hour_12</th>\n",
       "      <th>prev_event_time</th>\n",
       "      <th>hours_since_last_event</th>\n",
       "      <th>is_peak_hours</th>\n",
       "      <th>is_purchase</th>\n",
       "      <th>time_of_day</th>\n",
       "      <th>user_purchase_count</th>\n",
       "      <th>buyer_segment</th>\n",
       "      <th>time_between_events</th>\n",
       "      <th>clumpiness</th>\n",
       "    </tr>\n",
       "  </thead>\n",
       "  <tbody>\n",
       "    <tr>\n",
       "      <th>0</th>\n",
       "      <td>2019-11-01 00:00:14+00:00</td>\n",
       "      <td>cart</td>\n",
       "      <td>1005014</td>\n",
       "      <td>electronics.smartphone</td>\n",
       "      <td>503.09</td>\n",
       "      <td>533326659</td>\n",
       "      <td>electronics</td>\n",
       "      <td>11</td>\n",
       "      <td>Friday</td>\n",
       "      <td>0</td>\n",
       "      <td>12 AM</td>\n",
       "      <td>NaT</td>\n",
       "      <td>NaN</td>\n",
       "      <td>0</td>\n",
       "      <td>0</td>\n",
       "      <td>night</td>\n",
       "      <td>2.0</td>\n",
       "      <td>repeat_buyer</td>\n",
       "      <td>NaN</td>\n",
       "      <td>3.582655e+05</td>\n",
       "    </tr>\n",
       "    <tr>\n",
       "      <th>1</th>\n",
       "      <td>2019-11-01 00:00:41+00:00</td>\n",
       "      <td>purchase</td>\n",
       "      <td>13200605</td>\n",
       "      <td>furniture.bedroom.bed</td>\n",
       "      <td>566.30</td>\n",
       "      <td>559368633</td>\n",
       "      <td>furniture</td>\n",
       "      <td>11</td>\n",
       "      <td>Friday</td>\n",
       "      <td>0</td>\n",
       "      <td>12 AM</td>\n",
       "      <td>2019-11-01 00:00:14+00:00</td>\n",
       "      <td>0.007500</td>\n",
       "      <td>0</td>\n",
       "      <td>1</td>\n",
       "      <td>night</td>\n",
       "      <td>1.0</td>\n",
       "      <td>new_buyer</td>\n",
       "      <td>NaN</td>\n",
       "      <td>0.000000e+00</td>\n",
       "    </tr>\n",
       "    <tr>\n",
       "      <th>2</th>\n",
       "      <td>2019-11-01 00:01:04+00:00</td>\n",
       "      <td>purchase</td>\n",
       "      <td>1005161</td>\n",
       "      <td>electronics.smartphone</td>\n",
       "      <td>211.92</td>\n",
       "      <td>513351129</td>\n",
       "      <td>electronics</td>\n",
       "      <td>11</td>\n",
       "      <td>Friday</td>\n",
       "      <td>0</td>\n",
       "      <td>12 AM</td>\n",
       "      <td>2019-11-01 00:00:41+00:00</td>\n",
       "      <td>0.006389</td>\n",
       "      <td>0</td>\n",
       "      <td>1</td>\n",
       "      <td>night</td>\n",
       "      <td>2.0</td>\n",
       "      <td>repeat_buyer</td>\n",
       "      <td>NaN</td>\n",
       "      <td>1.037375e+06</td>\n",
       "    </tr>\n",
       "    <tr>\n",
       "      <th>3</th>\n",
       "      <td>2019-11-01 00:03:24+00:00</td>\n",
       "      <td>cart</td>\n",
       "      <td>1801881</td>\n",
       "      <td>electronics.video.tv</td>\n",
       "      <td>488.80</td>\n",
       "      <td>557746614</td>\n",
       "      <td>electronics</td>\n",
       "      <td>11</td>\n",
       "      <td>Friday</td>\n",
       "      <td>0</td>\n",
       "      <td>12 AM</td>\n",
       "      <td>2019-11-01 00:01:04+00:00</td>\n",
       "      <td>0.038889</td>\n",
       "      <td>0</td>\n",
       "      <td>0</td>\n",
       "      <td>night</td>\n",
       "      <td>7.0</td>\n",
       "      <td>loyal_buyer</td>\n",
       "      <td>NaN</td>\n",
       "      <td>5.063570e+01</td>\n",
       "    </tr>\n",
       "    <tr>\n",
       "      <th>4</th>\n",
       "      <td>2019-11-01 00:03:39+00:00</td>\n",
       "      <td>cart</td>\n",
       "      <td>1005115</td>\n",
       "      <td>electronics.smartphone</td>\n",
       "      <td>949.47</td>\n",
       "      <td>565865924</td>\n",
       "      <td>electronics</td>\n",
       "      <td>11</td>\n",
       "      <td>Friday</td>\n",
       "      <td>0</td>\n",
       "      <td>12 AM</td>\n",
       "      <td>2019-11-01 00:03:24+00:00</td>\n",
       "      <td>0.004167</td>\n",
       "      <td>0</td>\n",
       "      <td>0</td>\n",
       "      <td>night</td>\n",
       "      <td>4.0</td>\n",
       "      <td>repeat_buyer</td>\n",
       "      <td>NaN</td>\n",
       "      <td>3.443626e+04</td>\n",
       "    </tr>\n",
       "  </tbody>\n",
       "</table>\n",
       "</div>"
      ],
      "text/plain": [
       "                 event_time event_type  product_id           category_code  \\\n",
       "0 2019-11-01 00:00:14+00:00       cart     1005014  electronics.smartphone   \n",
       "1 2019-11-01 00:00:41+00:00   purchase    13200605   furniture.bedroom.bed   \n",
       "2 2019-11-01 00:01:04+00:00   purchase     1005161  electronics.smartphone   \n",
       "3 2019-11-01 00:03:24+00:00       cart     1801881    electronics.video.tv   \n",
       "4 2019-11-01 00:03:39+00:00       cart     1005115  electronics.smartphone   \n",
       "\n",
       "    price    user_id     category  month weekday  hour_24 hour_12  \\\n",
       "0  503.09  533326659  electronics     11  Friday        0   12 AM   \n",
       "1  566.30  559368633    furniture     11  Friday        0   12 AM   \n",
       "2  211.92  513351129  electronics     11  Friday        0   12 AM   \n",
       "3  488.80  557746614  electronics     11  Friday        0   12 AM   \n",
       "4  949.47  565865924  electronics     11  Friday        0   12 AM   \n",
       "\n",
       "            prev_event_time  hours_since_last_event  is_peak_hours  \\\n",
       "0                       NaT                     NaN              0   \n",
       "1 2019-11-01 00:00:14+00:00                0.007500              0   \n",
       "2 2019-11-01 00:00:41+00:00                0.006389              0   \n",
       "3 2019-11-01 00:01:04+00:00                0.038889              0   \n",
       "4 2019-11-01 00:03:24+00:00                0.004167              0   \n",
       "\n",
       "   is_purchase time_of_day  user_purchase_count buyer_segment  \\\n",
       "0            0       night                  2.0  repeat_buyer   \n",
       "1            1       night                  1.0     new_buyer   \n",
       "2            1       night                  2.0  repeat_buyer   \n",
       "3            0       night                  7.0   loyal_buyer   \n",
       "4            0       night                  4.0  repeat_buyer   \n",
       "\n",
       "   time_between_events    clumpiness  \n",
       "0                  NaN  3.582655e+05  \n",
       "1                  NaN  0.000000e+00  \n",
       "2                  NaN  1.037375e+06  \n",
       "3                  NaN  5.063570e+01  \n",
       "4                  NaN  3.443626e+04  "
      ]
     },
     "execution_count": 48,
     "metadata": {},
     "output_type": "execute_result"
    }
   ],
   "source": [
    "customer_oct_data.head(5)"
   ]
  },
  {
   "cell_type": "code",
   "execution_count": 49,
   "id": "077485c0",
   "metadata": {},
   "outputs": [],
   "source": [
    "user_event_counts = customer_oct_data.groupby(by=[\"user_id\"])[\"event_type\"].count().rename(\"event_counts\").fillna(0).reset_index()\n",
    "customer_oct_data = customer_oct_data.merge(user_event_counts, on=[\"user_id\"], how=\"left\")\n"
   ]
  },
  {
   "cell_type": "code",
   "execution_count": 50,
   "id": "d64d0f61",
   "metadata": {},
   "outputs": [],
   "source": [
    "user_stats = customer_oct_data.groupby(by=[\"user_id\"])[\"is_purchase\"].agg([\"count\", \"sum\"])\n",
    "user_stats[\"purchase_rate\"] = user_stats[\"sum\"] / user_stats[\"count\"]\n",
    "customer_oct_data = customer_oct_data.merge(user_stats[\"purchase_rate\"], on=[\"user_id\"], how=\"left\")"
   ]
  },
  {
   "cell_type": "code",
   "execution_count": 51,
   "id": "f0660869",
   "metadata": {},
   "outputs": [
    {
     "data": {
      "text/html": [
       "<div>\n",
       "<style scoped>\n",
       "    .dataframe tbody tr th:only-of-type {\n",
       "        vertical-align: middle;\n",
       "    }\n",
       "\n",
       "    .dataframe tbody tr th {\n",
       "        vertical-align: top;\n",
       "    }\n",
       "\n",
       "    .dataframe thead th {\n",
       "        text-align: right;\n",
       "    }\n",
       "</style>\n",
       "<table border=\"1\" class=\"dataframe\">\n",
       "  <thead>\n",
       "    <tr style=\"text-align: right;\">\n",
       "      <th></th>\n",
       "      <th>event_time</th>\n",
       "      <th>event_type</th>\n",
       "      <th>product_id</th>\n",
       "      <th>category_code</th>\n",
       "      <th>price</th>\n",
       "      <th>user_id</th>\n",
       "      <th>category</th>\n",
       "      <th>month</th>\n",
       "      <th>weekday</th>\n",
       "      <th>hour_24</th>\n",
       "      <th>...</th>\n",
       "      <th>hours_since_last_event</th>\n",
       "      <th>is_peak_hours</th>\n",
       "      <th>is_purchase</th>\n",
       "      <th>time_of_day</th>\n",
       "      <th>user_purchase_count</th>\n",
       "      <th>buyer_segment</th>\n",
       "      <th>time_between_events</th>\n",
       "      <th>clumpiness</th>\n",
       "      <th>event_counts</th>\n",
       "      <th>purchase_rate</th>\n",
       "    </tr>\n",
       "  </thead>\n",
       "  <tbody>\n",
       "    <tr>\n",
       "      <th>0</th>\n",
       "      <td>2019-11-01 00:00:14+00:00</td>\n",
       "      <td>cart</td>\n",
       "      <td>1005014</td>\n",
       "      <td>electronics.smartphone</td>\n",
       "      <td>503.09</td>\n",
       "      <td>533326659</td>\n",
       "      <td>electronics</td>\n",
       "      <td>11</td>\n",
       "      <td>Friday</td>\n",
       "      <td>0</td>\n",
       "      <td>...</td>\n",
       "      <td>NaN</td>\n",
       "      <td>0</td>\n",
       "      <td>0</td>\n",
       "      <td>night</td>\n",
       "      <td>2.0</td>\n",
       "      <td>repeat_buyer</td>\n",
       "      <td>NaN</td>\n",
       "      <td>3.582655e+05</td>\n",
       "      <td>7</td>\n",
       "      <td>0.285714</td>\n",
       "    </tr>\n",
       "    <tr>\n",
       "      <th>1</th>\n",
       "      <td>2019-11-01 00:00:41+00:00</td>\n",
       "      <td>purchase</td>\n",
       "      <td>13200605</td>\n",
       "      <td>furniture.bedroom.bed</td>\n",
       "      <td>566.30</td>\n",
       "      <td>559368633</td>\n",
       "      <td>furniture</td>\n",
       "      <td>11</td>\n",
       "      <td>Friday</td>\n",
       "      <td>0</td>\n",
       "      <td>...</td>\n",
       "      <td>0.007500</td>\n",
       "      <td>0</td>\n",
       "      <td>1</td>\n",
       "      <td>night</td>\n",
       "      <td>1.0</td>\n",
       "      <td>new_buyer</td>\n",
       "      <td>NaN</td>\n",
       "      <td>0.000000e+00</td>\n",
       "      <td>1</td>\n",
       "      <td>1.000000</td>\n",
       "    </tr>\n",
       "    <tr>\n",
       "      <th>2</th>\n",
       "      <td>2019-11-01 00:01:04+00:00</td>\n",
       "      <td>purchase</td>\n",
       "      <td>1005161</td>\n",
       "      <td>electronics.smartphone</td>\n",
       "      <td>211.92</td>\n",
       "      <td>513351129</td>\n",
       "      <td>electronics</td>\n",
       "      <td>11</td>\n",
       "      <td>Friday</td>\n",
       "      <td>0</td>\n",
       "      <td>...</td>\n",
       "      <td>0.006389</td>\n",
       "      <td>0</td>\n",
       "      <td>1</td>\n",
       "      <td>night</td>\n",
       "      <td>2.0</td>\n",
       "      <td>repeat_buyer</td>\n",
       "      <td>NaN</td>\n",
       "      <td>1.037375e+06</td>\n",
       "      <td>5</td>\n",
       "      <td>0.400000</td>\n",
       "    </tr>\n",
       "    <tr>\n",
       "      <th>3</th>\n",
       "      <td>2019-11-01 00:03:24+00:00</td>\n",
       "      <td>cart</td>\n",
       "      <td>1801881</td>\n",
       "      <td>electronics.video.tv</td>\n",
       "      <td>488.80</td>\n",
       "      <td>557746614</td>\n",
       "      <td>electronics</td>\n",
       "      <td>11</td>\n",
       "      <td>Friday</td>\n",
       "      <td>0</td>\n",
       "      <td>...</td>\n",
       "      <td>0.038889</td>\n",
       "      <td>0</td>\n",
       "      <td>0</td>\n",
       "      <td>night</td>\n",
       "      <td>7.0</td>\n",
       "      <td>loyal_buyer</td>\n",
       "      <td>NaN</td>\n",
       "      <td>5.063570e+01</td>\n",
       "      <td>14</td>\n",
       "      <td>0.500000</td>\n",
       "    </tr>\n",
       "    <tr>\n",
       "      <th>4</th>\n",
       "      <td>2019-11-01 00:03:39+00:00</td>\n",
       "      <td>cart</td>\n",
       "      <td>1005115</td>\n",
       "      <td>electronics.smartphone</td>\n",
       "      <td>949.47</td>\n",
       "      <td>565865924</td>\n",
       "      <td>electronics</td>\n",
       "      <td>11</td>\n",
       "      <td>Friday</td>\n",
       "      <td>0</td>\n",
       "      <td>...</td>\n",
       "      <td>0.004167</td>\n",
       "      <td>0</td>\n",
       "      <td>0</td>\n",
       "      <td>night</td>\n",
       "      <td>4.0</td>\n",
       "      <td>repeat_buyer</td>\n",
       "      <td>NaN</td>\n",
       "      <td>3.443626e+04</td>\n",
       "      <td>17</td>\n",
       "      <td>0.235294</td>\n",
       "    </tr>\n",
       "  </tbody>\n",
       "</table>\n",
       "<p>5 rows × 22 columns</p>\n",
       "</div>"
      ],
      "text/plain": [
       "                 event_time event_type  product_id           category_code  \\\n",
       "0 2019-11-01 00:00:14+00:00       cart     1005014  electronics.smartphone   \n",
       "1 2019-11-01 00:00:41+00:00   purchase    13200605   furniture.bedroom.bed   \n",
       "2 2019-11-01 00:01:04+00:00   purchase     1005161  electronics.smartphone   \n",
       "3 2019-11-01 00:03:24+00:00       cart     1801881    electronics.video.tv   \n",
       "4 2019-11-01 00:03:39+00:00       cart     1005115  electronics.smartphone   \n",
       "\n",
       "    price    user_id     category  month weekday  hour_24  ...  \\\n",
       "0  503.09  533326659  electronics     11  Friday        0  ...   \n",
       "1  566.30  559368633    furniture     11  Friday        0  ...   \n",
       "2  211.92  513351129  electronics     11  Friday        0  ...   \n",
       "3  488.80  557746614  electronics     11  Friday        0  ...   \n",
       "4  949.47  565865924  electronics     11  Friday        0  ...   \n",
       "\n",
       "  hours_since_last_event is_peak_hours  is_purchase  time_of_day  \\\n",
       "0                    NaN             0            0        night   \n",
       "1               0.007500             0            1        night   \n",
       "2               0.006389             0            1        night   \n",
       "3               0.038889             0            0        night   \n",
       "4               0.004167             0            0        night   \n",
       "\n",
       "   user_purchase_count buyer_segment  time_between_events    clumpiness  \\\n",
       "0                  2.0  repeat_buyer                  NaN  3.582655e+05   \n",
       "1                  1.0     new_buyer                  NaN  0.000000e+00   \n",
       "2                  2.0  repeat_buyer                  NaN  1.037375e+06   \n",
       "3                  7.0   loyal_buyer                  NaN  5.063570e+01   \n",
       "4                  4.0  repeat_buyer                  NaN  3.443626e+04   \n",
       "\n",
       "   event_counts  purchase_rate  \n",
       "0             7       0.285714  \n",
       "1             1       1.000000  \n",
       "2             5       0.400000  \n",
       "3            14       0.500000  \n",
       "4            17       0.235294  \n",
       "\n",
       "[5 rows x 22 columns]"
      ]
     },
     "execution_count": 51,
     "metadata": {},
     "output_type": "execute_result"
    }
   ],
   "source": [
    "customer_oct_data.head(5)"
   ]
  },
  {
   "cell_type": "code",
   "execution_count": 52,
   "id": "a7f576db",
   "metadata": {},
   "outputs": [],
   "source": [
    "customer_oct_data[\"avg_clumpiness_purchase\"] = (customer_oct_data[\"clumpiness\"] * customer_oct_data[\"user_purchase_count\"]) /customer_oct_data[\"event_counts\"] "
   ]
  },
  {
   "cell_type": "code",
   "execution_count": 53,
   "id": "921290d4",
   "metadata": {},
   "outputs": [
    {
     "data": {
      "text/plain": [
       "Index(['event_time', 'event_type', 'product_id', 'category_code', 'price',\n",
       "       'user_id', 'category', 'month', 'weekday', 'hour_24', 'hour_12',\n",
       "       'prev_event_time', 'hours_since_last_event', 'is_peak_hours',\n",
       "       'is_purchase', 'time_of_day', 'user_purchase_count', 'buyer_segment',\n",
       "       'time_between_events', 'clumpiness', 'event_counts', 'purchase_rate',\n",
       "       'avg_clumpiness_purchase'],\n",
       "      dtype='object')"
      ]
     },
     "execution_count": 53,
     "metadata": {},
     "output_type": "execute_result"
    }
   ],
   "source": [
    "customer_oct_data.columns"
   ]
  },
  {
   "cell_type": "code",
   "execution_count": 54,
   "id": "6635ccd1",
   "metadata": {},
   "outputs": [],
   "source": [
    "average_time_purchase = customer_oct_data[customer_oct_data[\"is_purchase\"] == 1].groupby(by=[\"user_id\"])[\"hour_24\"].mean().rename(\"avg_purchase_time\")\n",
    "customer_oct_data = customer_oct_data.merge(average_time_purchase, on=[\"user_id\"], how=\"left\")"
   ]
  },
  {
   "cell_type": "code",
   "execution_count": 55,
   "id": "9b3690ff",
   "metadata": {},
   "outputs": [],
   "source": [
    "clean_oct_data = customer_oct_data[[\"event_time\", \"event_type\", \"user_id\", \"user_purchase_count\", \"buyer_segment\", \"clumpiness\", \n",
    "                                \"month\", \"weekday\", \"hour_24\", \"hour_12\", \"prev_event_time\", \"hours_since_last_event\", \"purchase_rate\",\n",
    "                                \"time_between_events\", \"avg_clumpiness_purchase\" ,\"event_counts\",\"avg_purchase_time\" ,\n",
    "                                \"product_id\", \"category\", \"price\", \"is_purchase\"]]"
   ]
  },
  {
   "cell_type": "code",
   "execution_count": 56,
   "id": "d092ef3a",
   "metadata": {},
   "outputs": [
    {
     "data": {
      "text/html": [
       "<div>\n",
       "<style scoped>\n",
       "    .dataframe tbody tr th:only-of-type {\n",
       "        vertical-align: middle;\n",
       "    }\n",
       "\n",
       "    .dataframe tbody tr th {\n",
       "        vertical-align: top;\n",
       "    }\n",
       "\n",
       "    .dataframe thead th {\n",
       "        text-align: right;\n",
       "    }\n",
       "</style>\n",
       "<table border=\"1\" class=\"dataframe\">\n",
       "  <thead>\n",
       "    <tr style=\"text-align: right;\">\n",
       "      <th></th>\n",
       "      <th>event_time</th>\n",
       "      <th>event_type</th>\n",
       "      <th>user_id</th>\n",
       "      <th>user_purchase_count</th>\n",
       "      <th>buyer_segment</th>\n",
       "      <th>clumpiness</th>\n",
       "      <th>month</th>\n",
       "      <th>weekday</th>\n",
       "      <th>hour_24</th>\n",
       "      <th>hour_12</th>\n",
       "      <th>...</th>\n",
       "      <th>hours_since_last_event</th>\n",
       "      <th>purchase_rate</th>\n",
       "      <th>time_between_events</th>\n",
       "      <th>avg_clumpiness_purchase</th>\n",
       "      <th>event_counts</th>\n",
       "      <th>avg_purchase_time</th>\n",
       "      <th>product_id</th>\n",
       "      <th>category</th>\n",
       "      <th>price</th>\n",
       "      <th>is_purchase</th>\n",
       "    </tr>\n",
       "  </thead>\n",
       "  <tbody>\n",
       "    <tr>\n",
       "      <th>0</th>\n",
       "      <td>2019-11-01 00:00:14+00:00</td>\n",
       "      <td>cart</td>\n",
       "      <td>533326659</td>\n",
       "      <td>2.0</td>\n",
       "      <td>repeat_buyer</td>\n",
       "      <td>3.582655e+05</td>\n",
       "      <td>11</td>\n",
       "      <td>Friday</td>\n",
       "      <td>0</td>\n",
       "      <td>12 AM</td>\n",
       "      <td>...</td>\n",
       "      <td>NaN</td>\n",
       "      <td>0.285714</td>\n",
       "      <td>NaN</td>\n",
       "      <td>102361.576207</td>\n",
       "      <td>7</td>\n",
       "      <td>21.00</td>\n",
       "      <td>1005014</td>\n",
       "      <td>electronics</td>\n",
       "      <td>503.09</td>\n",
       "      <td>0</td>\n",
       "    </tr>\n",
       "    <tr>\n",
       "      <th>1</th>\n",
       "      <td>2019-11-01 00:00:41+00:00</td>\n",
       "      <td>purchase</td>\n",
       "      <td>559368633</td>\n",
       "      <td>1.0</td>\n",
       "      <td>new_buyer</td>\n",
       "      <td>0.000000e+00</td>\n",
       "      <td>11</td>\n",
       "      <td>Friday</td>\n",
       "      <td>0</td>\n",
       "      <td>12 AM</td>\n",
       "      <td>...</td>\n",
       "      <td>0.007500</td>\n",
       "      <td>1.000000</td>\n",
       "      <td>NaN</td>\n",
       "      <td>0.000000</td>\n",
       "      <td>1</td>\n",
       "      <td>0.00</td>\n",
       "      <td>13200605</td>\n",
       "      <td>furniture</td>\n",
       "      <td>566.30</td>\n",
       "      <td>1</td>\n",
       "    </tr>\n",
       "    <tr>\n",
       "      <th>2</th>\n",
       "      <td>2019-11-01 00:01:04+00:00</td>\n",
       "      <td>purchase</td>\n",
       "      <td>513351129</td>\n",
       "      <td>2.0</td>\n",
       "      <td>repeat_buyer</td>\n",
       "      <td>1.037375e+06</td>\n",
       "      <td>11</td>\n",
       "      <td>Friday</td>\n",
       "      <td>0</td>\n",
       "      <td>12 AM</td>\n",
       "      <td>...</td>\n",
       "      <td>0.006389</td>\n",
       "      <td>0.400000</td>\n",
       "      <td>NaN</td>\n",
       "      <td>414950.060551</td>\n",
       "      <td>5</td>\n",
       "      <td>4.50</td>\n",
       "      <td>1005161</td>\n",
       "      <td>electronics</td>\n",
       "      <td>211.92</td>\n",
       "      <td>1</td>\n",
       "    </tr>\n",
       "    <tr>\n",
       "      <th>3</th>\n",
       "      <td>2019-11-01 00:03:24+00:00</td>\n",
       "      <td>cart</td>\n",
       "      <td>557746614</td>\n",
       "      <td>7.0</td>\n",
       "      <td>loyal_buyer</td>\n",
       "      <td>5.063570e+01</td>\n",
       "      <td>11</td>\n",
       "      <td>Friday</td>\n",
       "      <td>0</td>\n",
       "      <td>12 AM</td>\n",
       "      <td>...</td>\n",
       "      <td>0.038889</td>\n",
       "      <td>0.500000</td>\n",
       "      <td>NaN</td>\n",
       "      <td>25.317851</td>\n",
       "      <td>14</td>\n",
       "      <td>0.00</td>\n",
       "      <td>1801881</td>\n",
       "      <td>electronics</td>\n",
       "      <td>488.80</td>\n",
       "      <td>0</td>\n",
       "    </tr>\n",
       "    <tr>\n",
       "      <th>4</th>\n",
       "      <td>2019-11-01 00:03:39+00:00</td>\n",
       "      <td>cart</td>\n",
       "      <td>565865924</td>\n",
       "      <td>4.0</td>\n",
       "      <td>repeat_buyer</td>\n",
       "      <td>3.443626e+04</td>\n",
       "      <td>11</td>\n",
       "      <td>Friday</td>\n",
       "      <td>0</td>\n",
       "      <td>12 AM</td>\n",
       "      <td>...</td>\n",
       "      <td>0.004167</td>\n",
       "      <td>0.235294</td>\n",
       "      <td>NaN</td>\n",
       "      <td>8102.649490</td>\n",
       "      <td>17</td>\n",
       "      <td>15.75</td>\n",
       "      <td>1005115</td>\n",
       "      <td>electronics</td>\n",
       "      <td>949.47</td>\n",
       "      <td>0</td>\n",
       "    </tr>\n",
       "  </tbody>\n",
       "</table>\n",
       "<p>5 rows × 21 columns</p>\n",
       "</div>"
      ],
      "text/plain": [
       "                 event_time event_type    user_id  user_purchase_count  \\\n",
       "0 2019-11-01 00:00:14+00:00       cart  533326659                  2.0   \n",
       "1 2019-11-01 00:00:41+00:00   purchase  559368633                  1.0   \n",
       "2 2019-11-01 00:01:04+00:00   purchase  513351129                  2.0   \n",
       "3 2019-11-01 00:03:24+00:00       cart  557746614                  7.0   \n",
       "4 2019-11-01 00:03:39+00:00       cart  565865924                  4.0   \n",
       "\n",
       "  buyer_segment    clumpiness  month weekday  hour_24 hour_12  ...  \\\n",
       "0  repeat_buyer  3.582655e+05     11  Friday        0   12 AM  ...   \n",
       "1     new_buyer  0.000000e+00     11  Friday        0   12 AM  ...   \n",
       "2  repeat_buyer  1.037375e+06     11  Friday        0   12 AM  ...   \n",
       "3   loyal_buyer  5.063570e+01     11  Friday        0   12 AM  ...   \n",
       "4  repeat_buyer  3.443626e+04     11  Friday        0   12 AM  ...   \n",
       "\n",
       "  hours_since_last_event  purchase_rate  time_between_events  \\\n",
       "0                    NaN       0.285714                  NaN   \n",
       "1               0.007500       1.000000                  NaN   \n",
       "2               0.006389       0.400000                  NaN   \n",
       "3               0.038889       0.500000                  NaN   \n",
       "4               0.004167       0.235294                  NaN   \n",
       "\n",
       "   avg_clumpiness_purchase  event_counts  avg_purchase_time  product_id  \\\n",
       "0            102361.576207             7              21.00     1005014   \n",
       "1                 0.000000             1               0.00    13200605   \n",
       "2            414950.060551             5               4.50     1005161   \n",
       "3                25.317851            14               0.00     1801881   \n",
       "4              8102.649490            17              15.75     1005115   \n",
       "\n",
       "      category   price  is_purchase  \n",
       "0  electronics  503.09            0  \n",
       "1    furniture  566.30            1  \n",
       "2  electronics  211.92            1  \n",
       "3  electronics  488.80            0  \n",
       "4  electronics  949.47            0  \n",
       "\n",
       "[5 rows x 21 columns]"
      ]
     },
     "execution_count": 56,
     "metadata": {},
     "output_type": "execute_result"
    }
   ],
   "source": [
    "clean_oct_data.head(5)"
   ]
  },
  {
   "cell_type": "code",
   "execution_count": null,
   "id": "c6345113",
   "metadata": {},
   "outputs": [],
   "source": [
    "clean_oct_data.to_parquet(\"../data/processed/2019_Oct_clean.parquet\")"
   ]
  }
 ],
 "metadata": {
  "kernelspec": {
   "display_name": "Python 3",
   "language": "python",
   "name": "python3"
  },
  "language_info": {
   "codemirror_mode": {
    "name": "ipython",
    "version": 3
   },
   "file_extension": ".py",
   "mimetype": "text/x-python",
   "name": "python",
   "nbconvert_exporter": "python",
   "pygments_lexer": "ipython3",
   "version": "3.11.0"
  }
 },
 "nbformat": 4,
 "nbformat_minor": 5
}
